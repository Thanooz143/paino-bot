{
 "cells": [
  {
   "cell_type": "markdown",
   "id": "d0cb5893",
   "metadata": {},
   "source": [
    "# curser position\n"
   ]
  },
  {
   "cell_type": "code",
   "execution_count": null,
   "id": "4f5cffbe",
   "metadata": {},
   "outputs": [],
   "source": [
    "import pyautogui\n",
    "import time\n",
    "time.sleep(2)\n",
    "x, y = pyautogui.position()\n",
    "print(f\"The current position of the cursor is: ({x}, {y})\")\n"
   ]
  },
  {
   "cell_type": "markdown",
   "id": "ff8516cf",
   "metadata": {},
   "source": [
    "# code for click function"
   ]
  },
  {
   "cell_type": "code",
   "execution_count": null,
   "id": "282b4c91",
   "metadata": {},
   "outputs": [],
   "source": [
    "from pyautogui import *\n",
    "import pyautogui\n",
    "import time\n",
    "import keyboard\n",
    "import random\n",
    "import win32api, win32con\n",
    "def click(x,y):\n",
    "    win32api.SetCursorPos((x,y))\n",
    "    win32api.mouse_event(win32con.MOUSEEVENTF_LEFTDOWN,0,0)\n",
    "    time.sleep(0.1) #This pauses the script for 0.1 seconds\n",
    "    win32api.mouse_event(win32con.MOUSEEVENTF_LEFTUP,0,0)\n",
    "\n",
    "while keyboard.is_pressed('q') == False:\n",
    "    \n",
    "    if pyautogui.pixel(806, 776)[0] == 0:\n",
    "        click(806, 776)\n",
    "    if pyautogui.pixel(731, 759)[0] == 0:\n",
    "        click(731,759)\n",
    "    if pyautogui.pixel(627, 782)[0] == 0:\n",
    "        click(627,782)\n",
    "    if pyautogui.pixel(525, 761)[0] == 0:\n",
    "        click(525, 761)\n",
    "        "
   ]
  }
 ],
 "metadata": {
  "kernelspec": {
   "display_name": "Python 3 (ipykernel)",
   "language": "python",
   "name": "python3"
  },
  "language_info": {
   "codemirror_mode": {
    "name": "ipython",
    "version": 3
   },
   "file_extension": ".py",
   "mimetype": "text/x-python",
   "name": "python",
   "nbconvert_exporter": "python",
   "pygments_lexer": "ipython3",
   "version": "3.9.13"
  }
 },
 "nbformat": 4,
 "nbformat_minor": 5
}
